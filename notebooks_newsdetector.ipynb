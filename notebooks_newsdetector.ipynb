{
  "metadata": {
    "language_info": {
      "codemirror_mode": {
        "name": "python",
        "version": 3
      },
      "file_extension": ".py",
      "mimetype": "text/x-python",
      "name": "python",
      "nbconvert_exporter": "python",
      "pygments_lexer": "ipython3",
      "version": "3.8"
    },
    "kernelspec": {
      "name": "python",
      "display_name": "Python (Pyodide)",
      "language": "python"
    }
  },
  "nbformat_minor": 4,
  "nbformat": 4,
  "cells": [
    {
      "cell_type": "code",
      "source": "import numpy as np\nimport pandas as pd\nfrom sklearn.model_selection import train_test_split\nfrom sklearn.feature_extraction.text import TfidfVectorizer\nfrom sklearn.svm import LinearSVC",
      "metadata": {
        "trusted": true
      },
      "execution_count": 19,
      "outputs": []
    },
    {
      "cell_type": "code",
      "source": "data = pd.read_csv(\"news.csv\")",
      "metadata": {
        "trusted": true
      },
      "execution_count": 3,
      "outputs": []
    },
    {
      "cell_type": "code",
      "source": "data[\"fake\"] = data[\"label\"].apply(lambda x: 0 if x == \"REAL\" else 1)\n",
      "metadata": {
        "trusted": true
      },
      "execution_count": 5,
      "outputs": []
    },
    {
      "cell_type": "code",
      "source": "data = data.drop(\"label\", axis = 1)",
      "metadata": {
        "trusted": true
      },
      "execution_count": 7,
      "outputs": []
    },
    {
      "cell_type": "code",
      "source": "X, y = data[\"text\"], data[\"fake\"]",
      "metadata": {
        "trusted": true
      },
      "execution_count": 9,
      "outputs": []
    },
    {
      "cell_type": "code",
      "source": "X_train, X_test, y_train, y_test, = train_test_split(X, y, test_size=0.2)",
      "metadata": {
        "trusted": true
      },
      "execution_count": 11,
      "outputs": []
    },
    {
      "cell_type": "code",
      "source": "len(X_train)",
      "metadata": {
        "trusted": true
      },
      "execution_count": 12,
      "outputs": [
        {
          "execution_count": 12,
          "output_type": "execute_result",
          "data": {
            "text/plain": "5068"
          },
          "metadata": {}
        }
      ]
    },
    {
      "cell_type": "code",
      "source": "len(X_test)\n",
      "metadata": {
        "trusted": true
      },
      "execution_count": 14,
      "outputs": [
        {
          "execution_count": 14,
          "output_type": "execute_result",
          "data": {
            "text/plain": "1267"
          },
          "metadata": {}
        }
      ]
    },
    {
      "cell_type": "code",
      "source": "vectorizer = TfidfVectorizer(stop_words = \"english\", max_df = 0.7)\nX_train_vectorized = vectorizer.fit_transform(X_train)\nX_test_vectorized = vectorizer.transform(X_test)",
      "metadata": {
        "trusted": true
      },
      "execution_count": 20,
      "outputs": []
    },
    {
      "cell_type": "code",
      "source": "clf = LinearSVC()\nclf.fit(X_train_vectorized, y_train)  ",
      "metadata": {
        "trusted": true
      },
      "execution_count": 24,
      "outputs": [
        {
          "execution_count": 24,
          "output_type": "execute_result",
          "data": {
            "text/plain": "LinearSVC()",
            "text/html": "<style>#sk-container-id-1 {color: black;background-color: white;}#sk-container-id-1 pre{padding: 0;}#sk-container-id-1 div.sk-toggleable {background-color: white;}#sk-container-id-1 label.sk-toggleable__label {cursor: pointer;display: block;width: 100%;margin-bottom: 0;padding: 0.3em;box-sizing: border-box;text-align: center;}#sk-container-id-1 label.sk-toggleable__label-arrow:before {content: \"▸\";float: left;margin-right: 0.25em;color: #696969;}#sk-container-id-1 label.sk-toggleable__label-arrow:hover:before {color: black;}#sk-container-id-1 div.sk-estimator:hover label.sk-toggleable__label-arrow:before {color: black;}#sk-container-id-1 div.sk-toggleable__content {max-height: 0;max-width: 0;overflow: hidden;text-align: left;background-color: #f0f8ff;}#sk-container-id-1 div.sk-toggleable__content pre {margin: 0.2em;color: black;border-radius: 0.25em;background-color: #f0f8ff;}#sk-container-id-1 input.sk-toggleable__control:checked~div.sk-toggleable__content {max-height: 200px;max-width: 100%;overflow: auto;}#sk-container-id-1 input.sk-toggleable__control:checked~label.sk-toggleable__label-arrow:before {content: \"▾\";}#sk-container-id-1 div.sk-estimator input.sk-toggleable__control:checked~label.sk-toggleable__label {background-color: #d4ebff;}#sk-container-id-1 div.sk-label input.sk-toggleable__control:checked~label.sk-toggleable__label {background-color: #d4ebff;}#sk-container-id-1 input.sk-hidden--visually {border: 0;clip: rect(1px 1px 1px 1px);clip: rect(1px, 1px, 1px, 1px);height: 1px;margin: -1px;overflow: hidden;padding: 0;position: absolute;width: 1px;}#sk-container-id-1 div.sk-estimator {font-family: monospace;background-color: #f0f8ff;border: 1px dotted black;border-radius: 0.25em;box-sizing: border-box;margin-bottom: 0.5em;}#sk-container-id-1 div.sk-estimator:hover {background-color: #d4ebff;}#sk-container-id-1 div.sk-parallel-item::after {content: \"\";width: 100%;border-bottom: 1px solid gray;flex-grow: 1;}#sk-container-id-1 div.sk-label:hover label.sk-toggleable__label {background-color: #d4ebff;}#sk-container-id-1 div.sk-serial::before {content: \"\";position: absolute;border-left: 1px solid gray;box-sizing: border-box;top: 0;bottom: 0;left: 50%;z-index: 0;}#sk-container-id-1 div.sk-serial {display: flex;flex-direction: column;align-items: center;background-color: white;padding-right: 0.2em;padding-left: 0.2em;position: relative;}#sk-container-id-1 div.sk-item {position: relative;z-index: 1;}#sk-container-id-1 div.sk-parallel {display: flex;align-items: stretch;justify-content: center;background-color: white;position: relative;}#sk-container-id-1 div.sk-item::before, #sk-container-id-1 div.sk-parallel-item::before {content: \"\";position: absolute;border-left: 1px solid gray;box-sizing: border-box;top: 0;bottom: 0;left: 50%;z-index: -1;}#sk-container-id-1 div.sk-parallel-item {display: flex;flex-direction: column;z-index: 1;position: relative;background-color: white;}#sk-container-id-1 div.sk-parallel-item:first-child::after {align-self: flex-end;width: 50%;}#sk-container-id-1 div.sk-parallel-item:last-child::after {align-self: flex-start;width: 50%;}#sk-container-id-1 div.sk-parallel-item:only-child::after {width: 0;}#sk-container-id-1 div.sk-dashed-wrapped {border: 1px dashed gray;margin: 0 0.4em 0.5em 0.4em;box-sizing: border-box;padding-bottom: 0.4em;background-color: white;}#sk-container-id-1 div.sk-label label {font-family: monospace;font-weight: bold;display: inline-block;line-height: 1.2em;}#sk-container-id-1 div.sk-label-container {text-align: center;}#sk-container-id-1 div.sk-container {/* jupyter's `normalize.less` sets `[hidden] { display: none; }` but bootstrap.min.css set `[hidden] { display: none !important; }` so we also need the `!important` here to be able to override the default hidden behavior on the sphinx rendered scikit-learn.org. See: https://github.com/scikit-learn/scikit-learn/issues/21755 */display: inline-block !important;position: relative;}#sk-container-id-1 div.sk-text-repr-fallback {display: none;}</style><div id=\"sk-container-id-1\" class=\"sk-top-container\"><div class=\"sk-text-repr-fallback\"><pre>LinearSVC()</pre><b>In a Jupyter environment, please rerun this cell to show the HTML representation or trust the notebook. <br />On GitHub, the HTML representation is unable to render, please try loading this page with nbviewer.org.</b></div><div class=\"sk-container\" hidden><div class=\"sk-item\"><div class=\"sk-estimator sk-toggleable\"><input class=\"sk-toggleable__control sk-hidden--visually\" id=\"sk-estimator-id-1\" type=\"checkbox\" checked><label for=\"sk-estimator-id-1\" class=\"sk-toggleable__label sk-toggleable__label-arrow\">LinearSVC</label><div class=\"sk-toggleable__content\"><pre>LinearSVC()</pre></div></div></div></div></div>"
          },
          "metadata": {}
        }
      ]
    },
    {
      "cell_type": "code",
      "source": "len(y_test)",
      "metadata": {
        "trusted": true
      },
      "execution_count": 26,
      "outputs": [
        {
          "execution_count": 26,
          "output_type": "execute_result",
          "data": {
            "text/plain": "1267"
          },
          "metadata": {}
        }
      ]
    },
    {
      "cell_type": "code",
      "source": "X_test.iloc[1]",
      "metadata": {
        "trusted": true
      },
      "execution_count": 34,
      "outputs": [
        {
          "execution_count": 34,
          "output_type": "execute_result",
          "data": {
            "text/plain": "'At the start of the presidential campaign, Ted Cruz told voters he would be the only “consistent conservative” in a crowded Republican field.\\n\\nThen he confronted the modern GOP — a fractured party, in which each faction has a different definition of what “conservative” means.\\n\\nTo consistently please all of them, Cruz has had to be inconsistent with himself.\\n\\nTime and again he has shifted, shaded or obfuscated his policy positions — piling on new ideas, which sometimes didn’t fit with the old.\\n\\nCruz, for instance, promised libertarians that he would show a strict respect for the Constitution’s checks and balances.\\n\\nThen, the senator from Texas promised social conservatives that he would scrap one of those checks and balances, stripping lifetime tenure from Supreme Court justices.\\n\\nHe criticized Donald Trump’s plan for mass deportation of undocumented immigrants. Then he seemed to support it. He appeared skeptical of military intervention in Syria. Then he vowed to find out whether “sand can glow in the dark” there.\\n\\nCruz’s maneuvering has helped him build and maintain a base of support among the party’s activist class: If Trump fails to win the GOP nomination outright, Cruz could have enough backing among Republican delegates to win it after the first ballot at the party’s convention in Cleveland in July.\\n\\nBut while Cruz’s rightward shifts might have been politically smart during the primary season, they probably would create major challenges during the general election, putting Cruz far to the right of most voters.\\n\\n“Now, he’s in this wonderful position where he’s both the last anti-establishment candidate acceptable who is not named Donald Trump, and he’s also the last establishment candidate,” said Matt Welch of the libertarian magazine Reason, applauding Cruz’s policy shifts. “That’s just a genius level of maneuvering.”\\n\\n“The question is: What might he believe, in the middle of all of that?” Welch said. “And I think people have a right to be very skeptical as to whether there is a real core belief system.”\\n\\nCruz’s campaign did not respond Friday to a detailed list of questions about his policy positions.\\n\\nIt’s clear that, on a number of issues, Cruz has been very consistent in his beliefs.\\n\\nHe has opposed giving undocumented immigrants a path to U.S. citizenship. He says that climate change is not a significant problem, defying considerable scientific evidence for climate change.\\n\\nCruz has consistently opposed abortion, including in cases in which the pregnancy was caused by rape. He opposes same-sex marriage. But Cruz says that — despite those personal feelings — he would leave decisions on abortion and marriage to the states.\\n\\nThat was of a piece with Cruz’s politics during his early years in the Senate: He adhered to tea party originalism, which believed Washington could be corrected by a return to the limited vision of its Founding Fathers.\\n\\n“We need to restore the Constitution as our standard,” Cruz says on his campaign website.\\n\\nThen, after the Supreme Court decision last year that made same-sex marriage a right nationwide, Cruz said the Constitution needed a change.\\n\\n“I am proposing an amendment to the United States Constitution that would subject the justices of the Supreme Court to periodic judicial-retention elections,” Cruz wrote in an op-ed in National Review. Now, Cruz said, the public would periodically get a chance to throw out “judicial tyrants” with whom they disagreed.\\n\\nHe didn’t actually file that proposed amendment, but a point was made. This was a different kind of conservatism, one in which some policies were so important that the Constitution should adapt to them.\\n\\n“If Ted Cruz is a ‘constitutionalist,’ he is a sore-loser, fair-weather constitutionalist,” David Vladeck, a professor at Georgetown University Law Center, wrote in an email. “The Constitution’s framers would be aghast at Cruz’s proposal to undermine the Constitution’s main protection against a tyrannical majority.”\\n\\nOn the subject of immigration, Cruz once championed policies from his party’s business wing — including big increases in legal immigration. He called for doubling the caps on the number of green cards granted each year and supported a fivefold increase in the number of visas granted to high-skilled guest workers, known as H-1B visas. He demurred when asked what he’d do with the millions of illegal immigrants already living in the United States.\\n\\nBut then came Trump.\\n\\nAfter the billionaire used promises of a sweeping immigration crackdown to rocket to the top of the GOP race, Cruz’s own policies grew sharply tougher. He was against any increase in legal immigration. He called for the high-skilled visa program to be halted for 180 days so that reported abuses in the system could be investigated.\\n\\nRick Tyler, Cruz’s former communications director, said he believes Cruz is “to the right of everyone who’s running” in the race.\\n\\n“If he changed his position on H-1B — and it’s fair to say he did, but you have to look underneath it and say, ‘Did he change his principle on it?’ No, and I think that’s the important thing,” Tyler said.\\n\\nOn the question of what to do with illegal immigrants, Cruz’s answers grew tougher and tougher.\\n\\nFirst, Cruz said, he wouldn’t offer them legal status. But he wouldn’t follow Trump’s lead and deport immigrants en masse.\\n\\nThen, maybe, he would.\\n\\n“Yes, we should deport them,” Cruz said on Fox News. When asked by host Bill O’Reilly if he would “look for them,” Cruz said yes.\\n\\n“Of course you would. That’s what ICE exists for,” Cruz said, referring to U.S. Immigration and Customs Enforcement. “We have law enforcement that looks for people who are violating the laws that apprehends them and deports them.”\\n\\nIf Trump had redefined what the most conservative position on immigration was, Cruz was going to keep up. At rallies now, Cruz makes this explicit without saying Trump’s name: He says he wants to build a border wall and that he already “has someone in mind to build it.”\\n\\nAnother noticeable shift was in Cruz’s approach to the federal budget.\\n\\nAt the beginning of his campaign, his ideas seemed drawn to please anti-tax conservatives, whose biggest concern was to reduce what Washington raises and spends. Cruz proposed instituting a single flat income tax, set at 10\\xa0percent. That would be a massive boon to the rich, who pay much higher rates now: The nonpartisan Tax Policy Center found that the top 0.1\\xa0percent of earners would get a tax cut equivalent to 29\\xa0percent of their after-tax income.\\n\\nIt would also take a massive slice out of overall federal revenue: The Tax Policy Center estimated the loss at $8.6\\xa0trillion over a decade. That was a major departure from past GOP orthodoxy: 2012 nominee Mitt Romney didn’t want to reduce revenue at all.\\n\\nThat was still not as big as Trump’s proposed tax cut, which the center said would eliminate $9.5 trillion in future revenue.\\n\\nCruz had specific suggestions for what he would cut to partially offset the loss. He would eliminate four Cabinet agencies — the departments of Commerce, Energy, Education, and Housing and Urban Development — and the Internal Revenue Service (Cruz would shift the tax-collecting function to a new office with less power and fewer employees). In fact, Cruz wanted a new constitutional amendment to require that the federal budget eventually balance.\\n\\nBut then, while campaigning in hawkish South Carolina, Cruz added another piece to the plan.\\n\\nEven as he slashed funding for the rest of the government, he promised a spending spree at the Pentagon: dozens more warships, hundreds more planes, thousands more troops. Analysts have estimated that the cost could exceed $1\\xa0trillion — and that it could reach $2.4\\xa0trillion — over a decade.\\n\\n“All these promises can’t add up. It’s not possible,” said Marc Goldwein of the Committee for a Responsible Federal Budget. He estimated that if Cruz tried to make good on all of these promises — plus another pledge to fully fund Social Security benefits for the near future — he might have to cut all other spending by 85 or 90 percent. “It’s not realistically possible to cut taxes by $8\\xa0trillion and increase defense spending by $2.5\\xa0billion and balance the budget.”\\n\\nThat shift was connected to another, in Cruz’s policies toward the military.\\n\\nIn the Senate, Cruz had voted repeatedly against the bill that sets policy and authorizes funding for the Pentagon, often objecting that it did not have enough civil-liberties protections for Americans accused of terrorism. Late last year, Cruz was deeply skeptical of U.S. military interventions overseas — even in Syria. “We have no dog in the fight of the Syrian civil war,” he said.\\n\\nCruz has said he remains skeptical of unnecessary foreign interventions, but in February he called for an extensive Pentagon buildup. He also began to call for aggressive tactics against the Islamic State in Syria: The United States would carpet-bomb the militants, Cruz said, and find out “if sand can glow in the dark.”\\n\\nThat has left even proponents of a larger U.S. military wondering about the sincerity of Cruz’s positions.\\n\\n“I don’t buy that he understands what he’s trying to do,” said Chris Harmer, a retired Navy commander and national security consultant. He said he agreed with Cruz that the Navy was too small, but he wondered why he hadn’t said so before. “Ted Cruz should have spent the last four years making a case for: This is why the end state of the Navy ought to be bigger .\\u2009.\\u2009. He hasn’t done any of that,” Harmer said.'"
          },
          "metadata": {}
        }
      ]
    },
    {
      "cell_type": "code",
      "source": "with open(\"mytext.txt\", \"w\", encoding = \"utf-8\") as f:\n    f.write(X_test.iloc[1])",
      "metadata": {
        "trusted": true
      },
      "execution_count": 35,
      "outputs": []
    },
    {
      "cell_type": "code",
      "source": "with open(\"mytext.txt\", \"r\", encoding = \"utf-8\") as f:\n    text = f.read()",
      "metadata": {
        "trusted": true
      },
      "execution_count": 36,
      "outputs": []
    },
    {
      "cell_type": "code",
      "source": "vectorized_text = vectorizer.transform([text])",
      "metadata": {
        "trusted": true
      },
      "execution_count": 37,
      "outputs": []
    },
    {
      "cell_type": "code",
      "source": "clf.predict(vectorized_text)",
      "metadata": {
        "trusted": true
      },
      "execution_count": 38,
      "outputs": [
        {
          "execution_count": 38,
          "output_type": "execute_result",
          "data": {
            "text/plain": "array([0], dtype=int64)"
          },
          "metadata": {}
        }
      ]
    },
    {
      "cell_type": "code",
      "source": "y_test.iloc[1]\n#output will be 0 as news is fake",
      "metadata": {
        "trusted": true
      },
      "execution_count": 40,
      "outputs": [
        {
          "execution_count": 40,
          "output_type": "execute_result",
          "data": {
            "text/plain": "0"
          },
          "metadata": {}
        }
      ]
    },
    {
      "cell_type": "code",
      "source": "",
      "metadata": {},
      "execution_count": null,
      "outputs": []
    }
  ]
}